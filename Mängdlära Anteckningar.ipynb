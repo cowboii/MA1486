{
 "cells": [
  {
   "cell_type": "markdown",
   "metadata": {},
   "source": [
    "# Mängdlära"
   ]
  },
  {
   "cell_type": "markdown",
   "metadata": {},
   "source": [
    "En _mängd_ är en smaling av olika objekt, så kallade _element_. Man säger att ett element i mängden _tillhör mängden_.\n",
    "\n",
    "__Ex:__ \n",
    "\n",
    "$ A = \\{ 1,2,3,2019\\} $\n",
    "\n",
    "$ L = \\{ Daniel, Henrik, Linda, Robert \\} $\n",
    "\n",
    "Notera att ordninger har ingen betydelse!\n",
    "\n",
    "__Ex:__ \n",
    "\n",
    "$ A = \\{2019,1,3,2\\} $\n",
    "\n",
    "$ \\{1,2,2,4 \\} $ är ingen mängd\n",
    "\n",
    "__Ex:__\n",
    "\n",
    "$ \\{ 1,3,5, \\dots, 2019 \\} = \\{ 2k + 1: k = 0, 1, 2, \\dots , 1009 \\} $\n",
    "\n",
    "\"Mängden av alla element på formen $2k+1$ där ($:$ eller $|$) $k$ är ($k =$) ett heltal från $0$ till $1009$\"\n",
    "\n",
    "$\\dots$ = elips"
   ]
  },
  {
   "cell_type": "markdown",
   "metadata": {},
   "source": [
    "Om elementet _a tillhör mängden A_ betecknas det $ a \\in A $, \n",
    "__Ex:__\n",
    "\n",
    "\\begin{align}\n",
    "    A &= \\{1, 2, 3,\\} \\\\\n",
    "    1 &\\in A \\\\\n",
    "    4 &\\notin A \\\\\n",
    "\\end{align}\n",
    "\n",
    "Gäller $ \\{1,2\\} \\in A $ __Nej__\n",
    "\n",
    "Gäller $ \\{1,2\\} \\subseteq A $ __Ja__"
   ]
  },
  {
   "cell_type": "markdown",
   "metadata": {},
   "source": [
    "### Viktiga Mängder\n",
    "\n",
    "Ø"
   ]
  },
  {
   "cell_type": "markdown",
   "metadata": {},
   "source": [
    "### Venndiagram\n",
    "\n",
    "$ \\mathbb{U} $ är område utanför $A$ och $B$.\n",
    "\n",
    "$U$ är en grundmängd, sk. _universum_ eller _universalmängd_.  \n",
    "Ett punkt kan vara ett _element_ i flera olika mängder.\n",
    "\n",
    "__Ex:__\n",
    "\n",
    "\\begin{align}\n",
    "    U &= \\{\\text{alla funktioner}\\} \\\\\n",
    "    A &= \\{f(x) = \\sin{x}, g(x), e^x, h(x)=\\ln{x}\\} \\\\\n",
    "    B &= \\{j(x) = 2x+3, k(x) = sin(x) \\\\\n",
    "    \\\\ \n",
    "    A,B &\\in U\n",
    "\\end{align}\n",
    "\n",
    "$A$ delmängd till $B$: $ A \\subseteq B $ om \"området\" i utanför $A$ är tom $A = B $.\n",
    "\n",
    "$A$ äkta delmängd till $B$: $ A \\subset B$ om $ A \\neq B $\n",
    "\n",
    "__Ex:__ \n",
    "\n",
    "\\begin{align} \n",
    "    \\mathbb{U} &= \\{1,2,\\dots,10\\} \\\\\n",
    "    A &= \\{1,2,3,4,5,\\} \\\\\n",
    "    B &= \\{2, 4, 6, 8, 10\\}\n",
    "\\end{align}"
   ]
  },
  {
   "cell_type": "markdown",
   "metadata": {},
   "source": [
    "### Mängdoperation\n",
    "\n",
    "#### Snitt $\\cap$\n",
    "\n",
    "Snitt är allt som är gemensamt i $A$ och $B$: $A \\cap B$\n",
    "\n",
    "__Ex:__\n",
    "\n",
    "$$ \\{1,2,3\\} \\cap \\{3,4,5\\} = \\{3\\} $$\n",
    "\n",
    "__Ex:__ def. _disjunkta mängder_\n",
    "\n",
    "$$ \\{1,2,3\\} \\cap \\{4,5\\} = Ø $$\n",
    "\n",
    "__Ex:__\n",
    "\n",
    "Bestäm $A$ och $B$ så att $A \\cap B = \\{L,I,N,D,A\\}$\n",
    "\\begin{align}\n",
    " A &= \\{L,I,N,D,A,C\\} \\\\\n",
    " B &= \\{L,I,N,D,A,W\\} \\\\\n",
    " U &= \\{L,I,N,D,A,C,W\\}\n",
    "\\end{align}\n",
    "\n",
    "#### Union $\\cup$\n",
    "\n",
    "$ A \\cup B $ \n",
    "\n",
    "$$ A \\cup B = \\{ x \\in \\mathbf{U}: x \\in A ~\\text{eller}~ x \\in B \\} $$\n",
    "\n",
    "__Ex:__\n",
    "\n",
    "$$ \\{ 1,2,3\\} \\cup \\{3,4,5\\} = \\{1,2,3,4,5\\} $$\n",
    "\n",
    "$$ \\complement A = \\{ x \\in \\mathbb{R} : x \\ge 1~\\text{eller}~x \\lt 2 \\} = (-\\infty, 1] \\cup (2, \\infty) $$ \n",
    "__Ex:__\n",
    "\n",
    "\\begin{align}\n",
    "    A &= \\{alla studenter\\} \\\\\n",
    "    B &= \\{alla renlevnadsmänniskor\\} \\\\\n",
    "    \\\\\n",
    "    a)~A &\\cup B  \\\\\n",
    "    b)~A &\\cap B  \n",
    "\\end{align}"
   ]
  },
  {
   "cell_type": "markdown",
   "metadata": {},
   "source": [
    "#### Differens $\\backslash$\n",
    "\n",
    "$ A \\backslash B~(\\text{eller}~A - B) $\n",
    "\n",
    "$$ A \\backslash B = \\{ x \\in A: x \\notin B \\} $$\n",
    "\n",
    "__Ex:__\n",
    "\n",
    "$$ \\{ 1,2,3 \\} \\backslash \\{1, 2\\} = \\{3\\} $$\n",
    "\n",
    "$$ \\{ 1,2,3 \\} \\backslash \\{1, 4\\} = \\{2, 3\\} $$\n",
    "\n",
    "$$ \\{ 1,2,3 \\} \\backslash \\{1,2,3,4\\} = Ø $$\n",
    "\n",
    "$$ \\{ 1,2,3 \\} \\backslash \\{4\\} = \\{1,2,3\\} $$"
   ]
  },
  {
   "cell_type": "markdown",
   "metadata": {},
   "source": [
    "#### Komplement $\\complement$\n",
    "\n",
    "Komplementet till $A$ är allt utanför $A$. $ \\complement A $\n",
    "\n",
    "$$ \\complement A = \\{ x \\in \\mathbf{U} : x \\notin A \\} $$\n",
    "\n",
    "__Ex:__\n",
    "\n",
    "\\begin{align}\n",
    "    \\mathbf{U} &= \\{1,2,3,4,5\\} \\\\\n",
    "    A &= \\{1,3,5\\} \\\\ \n",
    "    B &= \\{1,2,3,4\\}\\\\\n",
    "    \\\\\n",
    "    \\complement A &= \\{2, 4\\} \\\\\n",
    "    \\complement B &= \\{5\\} \n",
    "\\end{align}\n",
    "\n",
    "__Ex:__\n",
    "\\begin{align}\n",
    "    \\mathbf{U} &= \\mathbb{R} \\\\\n",
    "    A &= \\{ x \\in \\mathbb{R} : 1 \\gt x \\ge 2 \\} = (1,2] \\\\\n",
    "    \\complement A &= \\{ x \\in \\mathbb{R} : x \\ge 1~\\text{eller}~x \\lt 2 \\}\n",
    "\\end{align}\n",
    "\n",
    "$$ \\complement \\mathbf{U} = Ø $$\n",
    "\n",
    "\\begin{align}\n",
    "    \\mathbf{U} = \\mathbb{C} \\\\\n",
    "    \\complement \\mathbb{R} = \\{a + b\n",
    "\\end{align}"
   ]
  },
  {
   "cell_type": "markdown",
   "metadata": {},
   "source": [
    "### Intervall\n",
    "\n",
    "$$ (1, 2] = \\{ x \\in \\mathbb{R} : 1 \\gt x \\ge 2 \\} $$"
   ]
  },
  {
   "cell_type": "markdown",
   "metadata": {},
   "source": [
    "#### Definition\n",
    "\n",
    "Om alla element i $A$ tillhör också $B$, så säges A vara en _delmängd till _ $B$, som betecknas $ A \\subseteq B$.\n",
    "\n",
    "Om $A \\subseteq B$ och det finns ett element i $B$ som inte tillhör\n",
    "$A$ säges $A$ vara en _äkta delmängd till_ $B$\n",
    "som betecknas $A \\subset B$\n",
    "\n",
    "Om inte, så skriver vi (om alla element finns både i A och B) $ A = B $\n",
    "\n",
    "Notera att $ A \\subseteq B$ är detsamma som $ A \\subset B $ eller $ A = B $ \n",
    "\n",
    "__Ex:__\n",
    "\\begin{align}\n",
    "    a \\ge b \n",
    "    \\rightarrow ( a \\gt b, a = b )\n",
    "\\end{align}"
   ]
  },
  {
   "cell_type": "markdown",
   "metadata": {},
   "source": [
    "__Ex:__\n",
    "\n",
    "\\begin{align}\n",
    "\\{ 1,2,3 \\} &= \\{1, 2, 3\\} \\\\\n",
    "\\{ 1,2,3 \\} &\\subseteq \\{1, 2, 3\\} \\\\\n",
    "\\{ 1,2 \\} &\\subseteq \\{1, 2, 3\\} \\\\\n",
    "\\{ 1,2 \\} &\\subset \\{1, 2, 3\\} \\\\\n",
    "\\{ 1,2 \\} &\\neq \\{1, 2, 3\\} \\\\\n",
    "\\{ 1,2,3 \\} & \\text{NOT}\\subset \\{1, 2, 3\\}\n",
    "\\end{align}"
   ]
  },
  {
   "cell_type": "markdown",
   "metadata": {},
   "source": [
    "### Sats\n",
    "\n",
    "Om $ A \\subseteq B$ och $ B \\subseteq A$, så är $ A = B $\n",
    "\n",
    "### Bevis\n",
    "\n",
    "fig. 1 "
   ]
  },
  {
   "cell_type": "markdown",
   "metadata": {},
   "source": []
  }
 ],
 "metadata": {
  "kernelspec": {
   "display_name": "Python 3",
   "language": "python",
   "name": "python3"
  },
  "language_info": {
   "codemirror_mode": {
    "name": "ipython",
    "version": 3
   },
   "file_extension": ".py",
   "mimetype": "text/x-python",
   "name": "python",
   "nbconvert_exporter": "python",
   "pygments_lexer": "ipython3",
   "version": "3.7.4"
  }
 },
 "nbformat": 4,
 "nbformat_minor": 2
}
