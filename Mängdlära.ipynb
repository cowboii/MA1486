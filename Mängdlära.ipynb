{
 "cells": [
  {
   "cell_type": "markdown",
   "metadata": {},
   "source": [
    "# Mängdlära"
   ]
  },
  {
   "cell_type": "markdown",
   "metadata": {},
   "source": [
    "## Mängder\n",
    "\n",
    "En _mängd_ är en samling av olika objekt, så kallade _element_. \n",
    "Man säger att ett element i mängden _tillhör mängden_. \n",
    "Det finns nästan inga begränsningar i vilka objekt som kan ingå i en mängd.\n",
    "\n",
    "$$\n",
    "\\begin{equation}\n",
    "  A = \\{ 1,2,3,2019\\} \\\\\n",
    "  K = \\{ \\text{Lancelot, Galahad, Arthur}\\}\n",
    "\\end{equation}\n",
    "$$"
   ]
  },
  {
   "cell_type": "markdown",
   "metadata": {},
   "source": [
    "Objekt måste däremot vara unika, dvs att samma element kan inte framträda flera gånger i ett mängd.\n",
    "\n",
    "$$\n",
    "\\begin{equation}\n",
    "  C = \\{1,2,2,4,2019 \\} \\\\\n",
    "  K = \\{ \\text{Lancelot, Galahad, Arthur, Galahad} \\}\n",
    "\\end{equation}\n",
    "$$"
   ]
  },
  {
   "cell_type": "markdown",
   "metadata": {},
   "source": [
    "Notera att ordningen har ingen betydelse!\n",
    "\n",
    "$$ \n",
    "\\begin{equation}\n",
    "A = \\{2019,1,3,2\\} = \\{ 1,2,3,2019\\}\n",
    "\\end{equation}\n",
    "$$\n",
    "\n",
    "Det är vanligt att beteckna _mängder_ med versaler\n",
    "($A, B, C, \\dots $) och _element_ med gemener \n",
    "($a, b, c, \\dots$)"
   ]
  },
  {
   "cell_type": "markdown",
   "metadata": {},
   "source": [
    "Om ett objekt $a$ är ett element i en mängd $A$, \n",
    "så säger man att *a tillhör A*,\n",
    "vilket betecknas $a \\in A$ \n",
    "\n",
    "__Exempel:__\n",
    "\n",
    "$$\n",
    "\\begin{equation}\n",
    "   A = \\{\\text{Lancelot, Galahad, Arthur}\\} \\\\\n",
    "   a = \\text{Lancelot} \\\\\n",
    "   a \\in A\n",
    "\\end{equation}\n",
    "$$\n",
    "\n",
    "<hr/>"
   ]
  },
  {
   "cell_type": "markdown",
   "metadata": {},
   "source": [
    "Är däremot $a$ inte ett element i $A$, dvs *a tillhör inte A*, betecknas det $ a \\notin A$\n",
    "\n",
    "__Exempel:__\n",
    "\n",
    "$$\n",
    "\\begin{equation}\n",
    "   A = \\{\\text{Lancelot, Galahad, Arthur}\\} \\\\\n",
    "   a = \\text{Merlin} \\\\\n",
    "   a \\notin A\n",
    "\\end{equation}\n",
    "$$\n",
    "<hr/>"
   ]
  },
  {
   "cell_type": "markdown",
   "metadata": {},
   "source": [
    "En mängd kan innehålla innehålla oändligt många element, \n",
    "därför används uteslutningstecken ($\\dots$) sk. \n",
    "ellipsis. Mängden av alla positiva heltal mindre än 1000 kan skrivas\n",
    "\n",
    "$$\n",
    "\\begin{equation}\n",
    "    \\{1,2,3,\\dots,999\\}.\n",
    "\\end{equation}\n",
    "$$\n",
    "\n",
    "Notera att tillräcklig många element måste skrivas i början av samlingen för att få läsaren att hänge med.\n",
    "Mängden kan vara oändligt lång och det kan betecknas som t.ex\n",
    "\n",
    "$$\n",
    "\\begin{equation}\n",
    "    \\{ \\dots, -1, 0, 1, \\dots\\}.\n",
    "\\end{equation}\n",
    "$$"
   ]
  },
  {
   "cell_type": "markdown",
   "metadata": {},
   "source": [
    "Om mönstret är mindre uppenbart finns det bättre sätt att \n",
    "definiera på, och det görs med hjälp av \n",
    "mängdkonstruktionen\n",
    "\n",
    "$$\n",
    "\\begin{equation}\n",
    "    \\{\\textit{objekt}:\\textit{villkor}\\}\n",
    "\\end{equation}\n",
    "$$\n",
    "\n",
    "Som utläses: <br>\n",
    "$$\n",
    "\\text{\"Mängden av }\\textbf{alla }\\textit{objekt }\\text{sådana att de uppfyller }\\textit{villkor}\\text{.\"}\n",
    "$$\n",
    "\n",
    "__OBS__ att kolonet \":\" kan också bytas ut mot ett\n",
    "vertikalt sträck \"|\" som betyder det samma."
   ]
  },
  {
   "cell_type": "markdown",
   "metadata": {},
   "source": [
    "__Exempel:__\n",
    "\n",
    "Mängden av alla positiva heltal mindre än 1000 kan skrivas som\n",
    "\n",
    "$$\n",
    "\\begin{equation}\n",
    "    \\{n:n~\\text{är ett heltal och}~ 0 < n < 1000\\}\n",
    "\\end{equation}\n",
    "$$\n",
    "\n",
    "eller\n",
    "\n",
    "$$\n",
    "\\begin{equation}\n",
    "    \\{n \\in \\mathbb{N} : 0 < n < 1000\\}\n",
    "\\end{equation}\n",
    "$$\n",
    "\n",
    "och utläses \"mängden av alla $n$ sådana att $n$ är ett heltal större än noll och mindre än ett tusen\".\n",
    "\n",
    "$$\n",
    "\\begin{equation}\n",
    "    n \\in \\mathbb{N}\n",
    "\\end{equation}\n",
    "$$\n",
    "\n",
    "tyder på att alla element ur mängden $ \\mathbb{N} $ ska plockas för att bilda den nya samlingen."
   ]
  },
  {
   "cell_type": "markdown",
   "metadata": {},
   "source": [
    "__Exempel:__"
   ]
  },
  {
   "cell_type": "markdown",
   "metadata": {},
   "source": [
    "Mängden av alla positiva jämna heltal\n",
    "\n",
    "$$\n",
    "\\begin{equation}\n",
    "    \\{2k:k \\in \\mathbb{Z} och k > 0\\}\n",
    "\\end{equation}\n",
    "$$"
   ]
  },
  {
   "cell_type": "markdown",
   "metadata": {},
   "source": [
    "__Exempel:__\n",
    "\n",
    "\"Mängden av alla element på formen $2k+1$ där $k$ är ett heltal från 0 till 1009\"\n",
    "\n",
    "$$\n",
    "\\begin{equation}\n",
    "\\{ 1,3,5, \\dots, 2019 \\} = \n",
    "\\{ 2k + 1: k = 0, 1, 2, \\dots , 1009 \\}\n",
    "\\end{equation}\n",
    "$$"
   ]
  },
  {
   "cell_type": "markdown",
   "metadata": {},
   "source": [
    "### Olika mängder\n",
    "\n",
    "__Naturliga tal:__\n",
    "$$\n",
    "\\begin{equation}\n",
    "    \\mathbb{N} = \\{1,2,3,\\dots\\}\n",
    "\\end{equation}\n",
    "$$\n",
    "\n",
    "__Heltal:__\n",
    "$$\n",
    "\\begin{equation}\n",
    "    \\mathbb{Z} = \\{\\dots,-2,-1,0,1,2,\\dots\\}\n",
    "\\end{equation}\n",
    "$$\n",
    "\n",
    "__Rationellt tal:__\n",
    "\n",
    "$$\n",
    "\\begin{equation}\n",
    "    \\mathbb{Q} = \\bigg\\{\\frac{a}{b}: \n",
    "    a \\text{ och } b \\text{ är heltal samt}\n",
    "    b \\neq 0\\bigg\\}\n",
    "\\end{equation}\n",
    "$$\n",
    "\n",
    "__Irrationella tal:__\n",
    "\n",
    "Alla talen med en icke-periodisk decimalutveckling, dvs\n",
    "$\\sqrt{2} = 1.41421\\dots, \\pi = 3.14159\\dots, $ osv.\n",
    "\n",
    "__Reella tal:__\n",
    "\n",
    "$$\n",
    "\\begin{equation}\n",
    " \\mathbb{R} = \n",
    " \\text{alla rationella och irrationella talen}\n",
    "\\end{equation}\n",
    "$$\n",
    "\n",
    "__Tom mängd:__\n",
    "\n",
    "En mängd som saknar element\n",
    "\n",
    "$$\n",
    "\\begin{equation}\n",
    "Ø = \\big\\{\\big\\}\n",
    "\\end{equation}\n",
    "$$"
   ]
  },
  {
   "cell_type": "markdown",
   "metadata": {},
   "source": [
    "### Universum, delmängd och äktadelmängd\n",
    "\n",
    "Låt \n",
    "\n",
    "$$\n",
    "\\begin{equation}\n",
    "    A = B \\\\\n",
    "    A = \\{1,2,3\\} = \\{2,3,1\\} = \\{3,1,2\\} \\\\\n",
    "\\end{equation}\n",
    "$$\n",
    "\n",
    "samt\n",
    "\n",
    "$$\n",
    "\\begin{equation}\n",
    "    \\mathbf{N} = \\{1,2,3,\\dots\\}~~\\text{och}~~\n",
    "    \\mathbf{Z} = \\{\\dots,-2,-1,0,1,2,\\dots\\}\n",
    "\\end{equation}\n",
    "$$\n",
    "\n",
    "Mängden av alla de objekt som i sammanhanget är relevanta kallas för _universum_ eller _universalmängd_. \n",
    "Om inget annat anges används $\\mathbf{U}$ för att beteckna aktuellt universum.\n",
    "\n",
    "Om varje element i mängden $A$ tillhör mängden $B$,\n",
    "så sägs $A$ vara en delmängd till $B$,\n",
    "\n",
    "$$\n",
    "\\begin{equation}\n",
    "   A \\subseteq B \n",
    "\\end{equation}\n",
    "$$\n",
    "\n",
    "Notera om ett eller flera element i $A$ finns inte i $B$,\n",
    "så är inte $A$ en delmängd till $B$,\n",
    "\n",
    "$$\n",
    "\\begin{equation}\n",
    "    A \\not\\subseteq B\n",
    "\\end{equation}\n",
    "$$\n",
    "\n",
    "Om $B$ innehåller minst ett element som inte finns i $A$ så blir $A$ en äktadelmängd till $B$,\n",
    "\n",
    "$$\n",
    "\\begin{equation}\n",
    "    B = \\{1,2,3,4\\} \\\\\n",
    "    A = \\{1,2,3\\} \\\\\n",
    "    A \\subset B\n",
    "\\end{equation}\n",
    "$$\n",
    "\n",
    "När man skriver $A \\subseteq B$ så menar man med andra ord\n",
    "\n",
    "$$\n",
    "\\begin{equation}\n",
    "    \"A \\subset B \\text{ eller } A = B\"\n",
    "\\end{equation}\n",
    "$$"
   ]
  },
  {
   "cell_type": "markdown",
   "metadata": {},
   "source": [
    "__Exempel:__\n",
    "\n",
    "\n",
    "$$\n",
    "\\begin{equation}\n",
    "    \\mathbb{N} \\subset \\mathbb{Z}\n",
    "    \\subset \\mathbb{Q}\n",
    "    \\subset \\mathbb{R}\n",
    "\\end{equation}\n",
    "$$"
   ]
  },
  {
   "cell_type": "markdown",
   "metadata": {},
   "source": [
    "### Venndiagram\n",
    "\n",
    "Med ett _Venndiagram_ kan man illustrera hur olika \n",
    "mängder förhåller sig utan gå i detaljerna.\n",
    "\n",
    "Låt $\\mathbf{U}$ vara ett universum och $A$ en delmängd till $\\mathbf{U}$\n",
    "\n",
    "![](Figurer/fig002.png)\n",
    "\n",
    "Allt som är inom rektangeln är aktuella _universum_ och \n",
    "allt inom cirkeln tillhör mängden $A$."
   ]
  },
  {
   "cell_type": "markdown",
   "metadata": {},
   "source": [
    "Om flera mängder delar på samma element, dvs t.ex. om $A \\subseteq B$ har man ytor som överlappar varan."
   ]
  },
  {
   "cell_type": "code",
   "execution_count": 141,
   "metadata": {
    "tags": [
     "hide_input"
    ]
   },
   "outputs": [
    {
     "data": {
      "image/png": "[encoded data removed]",
      "text/plain": [
       "<Figure size 432x288 with 1 Axes>"
      ]
     },
     "metadata": {},
     "output_type": "display_data"
    }
   ],
   "source": [
    "import matplotlib.pyplot as plt\n",
    "import matplotlib\n",
    "from matplotlib_venn import venn2\n",
    "\n",
    "font = {'family' : 'normal', 'weight' : 'bold', 'size'   : 22}\n",
    "\n",
    "matplotlib.rc('font', **font)\n",
    "\n",
    "venn = venn2([{1,2},{2,3}],(\"\",\"\"))\n",
    "venn.get_label_by_id(\"10\").set_text(\"A\")\n",
    "venn.get_label_by_id(\"01\").set_text(\"B\")\n",
    "venn.get_label_by_id(\"11\").set_text(\"\")\n",
    "plt.text(-.69,.40,\"U\")\n",
    "plt.axis('on')\n",
    "plt.show()"
   ]
  },
  {
   "cell_type": "markdown",
   "metadata": {},
   "source": [
    "__Ex:__\n",
    "\n",
    "\\begin{align}\n",
    "    U &= \\{\\text{alla funktioner}\\} \\\\\n",
    "    A &= \\{f(x) = \\sin{x}, g(x), e^x, h(x)=\\ln{x}\\} \\\\\n",
    "    B &= \\{j(x) = 2x+3, k(x) = sin(x) \\\\\n",
    "    \\\\ \n",
    "    A,B &\\in U\n",
    "\\end{align}\n",
    "\n",
    "$A$ delmängd till $B$: $ A \\subseteq B $ om \"området\" i utanför $A$ är tom $A = B $.\n",
    "\n",
    "$A$ äkta delmängd till $B$: $ A \\subset B$ om $ A \\neq B $\n",
    "\n",
    "__Ex:__ \n",
    "\n",
    "\\begin{align} \n",
    "    \\mathbb{U} &= \\{1,2,\\dots,10\\} \\\\\n",
    "    A &= \\{1,2,3,4,5,\\} \\\\\n",
    "    B &= \\{2, 4, 6, 8, 10\\}\n",
    "\\end{align}"
   ]
  },
  {
   "cell_type": "markdown",
   "metadata": {},
   "source": [
    "### Mängdoperation\n",
    "\n",
    "#### Snitt $\\cap$\n",
    "\n",
    "Snitt är allt som är gemensamt i $A$ och $B$: $A \\cap B$\n",
    "\n",
    "__Ex:__\n",
    "\n",
    "$$ \\{1,2,3\\} \\cap \\{3,4,5\\} = \\{3\\} $$\n",
    "\n",
    "__Ex:__ def. _disjunkta mängder_\n",
    "\n",
    "$$ \\{1,2,3\\} \\cap \\{4,5\\} = Ø $$\n",
    "\n",
    "__Ex:__\n",
    "\n",
    "Bestäm $A$ och $B$ så att $A \\cap B = \\{L,I,N,D,A\\}$\n",
    "\\begin{align}\n",
    " A &= \\{L,I,N,D,A,C\\} \\\\\n",
    " B &= \\{L,I,N,D,A,W\\} \\\\\n",
    " U &= \\{L,I,N,D,A,C,W\\}\n",
    "\\end{align}\n",
    "\n",
    "#### Union $\\cup$\n",
    "\n",
    "$ A \\cup B $ \n",
    "\n",
    "$$ A \\cup B = \\{ x \\in \\mathbf{U}: x \\in A ~\\text{eller}~ x \\in B \\} $$\n",
    "\n",
    "__Ex:__\n",
    "\n",
    "$$ \\{ 1,2,3\\} \\cup \\{3,4,5\\} = \\{1,2,3,4,5\\} $$\n",
    "\n",
    "$$ \\complement A = \\{ x \\in \\mathbb{R} : x \\ge 1~\\text{eller}~x \\lt 2 \\} = (-\\infty, 1] \\cup (2, \\infty) $$ \n",
    "__Ex:__\n",
    "\n",
    "\\begin{align}\n",
    "    A &= \\{alla studenter\\} \\\\\n",
    "    B &= \\{alla renlevnadsmänniskor\\} \\\\\n",
    "    \\\\\n",
    "    a)~A &\\cup B  \\\\\n",
    "    b)~A &\\cap B  \n",
    "\\end{align}"
   ]
  },
  {
   "cell_type": "markdown",
   "metadata": {},
   "source": [
    "#### Differens $\\backslash$\n",
    "\n",
    "$ A \\backslash B~(\\text{eller}~A - B) $\n",
    "\n",
    "$$ A \\backslash B = \\{ x \\in A: x \\notin B \\} $$\n",
    "\n",
    "__Ex:__\n",
    "\n",
    "$$ \\{ 1,2,3 \\} \\backslash \\{1, 2\\} = \\{3\\} $$\n",
    "\n",
    "$$ \\{ 1,2,3 \\} \\backslash \\{1, 4\\} = \\{2, 3\\} $$\n",
    "\n",
    "$$ \\{ 1,2,3 \\} \\backslash \\{1,2,3,4\\} = Ø $$\n",
    "\n",
    "$$ \\{ 1,2,3 \\} \\backslash \\{4\\} = \\{1,2,3\\} $$"
   ]
  },
  {
   "cell_type": "markdown",
   "metadata": {},
   "source": [
    "#### Komplement $\\complement$\n",
    "\n",
    "Komplementet till $A$ är allt utanför $A$. $ \\complement A $\n",
    "\n",
    "$$ \\complement A = \\{ x \\in \\mathbf{U} : x \\notin A \\} $$\n",
    "\n",
    "__Ex:__\n",
    "\n",
    "\\begin{align}\n",
    "    \\mathbf{U} &= \\{1,2,3,4,5\\} \\\\\n",
    "    A &= \\{1,3,5\\} \\\\ \n",
    "    B &= \\{1,2,3,4\\}\\\\\n",
    "    \\\\\n",
    "    \\complement A &= \\{2, 4\\} \\\\\n",
    "    \\complement B &= \\{5\\} \n",
    "\\end{align}\n",
    "\n",
    "__Ex:__\n",
    "\\begin{align}\n",
    "    \\mathbf{U} &= \\mathbb{R} \\\\\n",
    "    A &= \\{ x \\in \\mathbb{R} : 1 \\gt x \\ge 2 \\} = (1,2] \\\\\n",
    "    \\complement A &= \\{ x \\in \\mathbb{R} : x \\ge 1~\\text{eller}~x \\lt 2 \\}\n",
    "\\end{align}\n",
    "\n",
    "$$ \\complement \\mathbf{U} = Ø $$\n",
    "\n",
    "\\begin{align}\n",
    "    \\mathbf{U} = \\mathbb{C} \\\\\n",
    "    \\complement \\mathbb{R} = \\{a + b\n",
    "\\end{align}"
   ]
  },
  {
   "cell_type": "markdown",
   "metadata": {},
   "source": [
    "### Intervall\n",
    "\n",
    "$$ (1, 2] = \\{ x \\in \\mathbb{R} : 1 \\gt x \\ge 2 \\} $$"
   ]
  },
  {
   "cell_type": "markdown",
   "metadata": {},
   "source": [
    "#### Definition\n",
    "\n",
    "Om alla element i $A$ tillhör också $B$, så säges A vara en _delmängd till _ $B$, som betecknas $ A \\subseteq B$.\n",
    "\n",
    "Om $A \\subseteq B$ och det finns ett element i $B$ som inte tillhör\n",
    "$A$ säges $A$ vara en _äkta delmängd till_ $B$\n",
    "som betecknas $A \\subset B$\n",
    "\n",
    "Om inte, så skriver vi (om alla element finns både i A och B) $ A = B $\n",
    "\n",
    "Notera att $ A \\subseteq B$ är detsamma som $ A \\subset B $ eller $ A = B $ \n",
    "\n",
    "__Ex:__\n",
    "\\begin{align}\n",
    "    a \\ge b \n",
    "    \\rightarrow ( a \\gt b, a = b )\n",
    "\\end{align}"
   ]
  },
  {
   "cell_type": "markdown",
   "metadata": {},
   "source": [
    "__Ex:__\n",
    "\n",
    "\\begin{align}\n",
    "\\{ 1,2,3 \\} &= \\{1, 2, 3\\} \\\\\n",
    "\\{ 1,2,3 \\} &\\subseteq \\{1, 2, 3\\} \\\\\n",
    "\\{ 1,2 \\} &\\subseteq \\{1, 2, 3\\} \\\\\n",
    "\\{ 1,2 \\} &\\subset \\{1, 2, 3\\} \\\\\n",
    "\\{ 1,2 \\} &\\neq \\{1, 2, 3\\} \\\\\n",
    "\\{ 1,2,3 \\} & \\text{NOT}\\subset \\{1, 2, 3\\}\n",
    "\\end{align}"
   ]
  },
  {
   "cell_type": "markdown",
   "metadata": {},
   "source": [
    "### Sats\n",
    "\n",
    "Om $ A \\subseteq B$ och $ B \\subseteq A$, så är $ A = B $\n",
    "\n",
    "### Bevis\n",
    "\n",
    "fig. 1 "
   ]
  },
  {
   "cell_type": "markdown",
   "metadata": {},
   "source": []
  }
 ],
 "metadata": {
  "kernelspec": {
   "display_name": "Python 3",
   "language": "python",
   "name": "python3"
  },
  "language_info": {
   "codemirror_mode": {
    "name": "ipython",
    "version": 3
   },
   "file_extension": ".py",
   "mimetype": "text/x-python",
   "name": "python",
   "nbconvert_exporter": "python",
   "pygments_lexer": "ipython3",
   "version": "3.7.4"
  },
  "toc": {
   "base_numbering": 1,
   "nav_menu": {},
   "number_sections": true,
   "sideBar": true,
   "skip_h1_title": false,
   "title_cell": "Table of Contents",
   "title_sidebar": "Contents",
   "toc_cell": false,
   "toc_position": {},
   "toc_section_display": true,
   "toc_window_display": false
  }
 },
 "nbformat": 4,
 "nbformat_minor": 2
}
